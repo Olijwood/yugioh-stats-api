{
 "cells": [
  {
   "cell_type": "code",
   "execution_count": 1,
   "id": "30af21a6-55f2-47c5-b057-812a978672d0",
   "metadata": {},
   "outputs": [],
   "source": [
    "import setup\n",
    "setup.init_django(project_name='yugiohstats')"
   ]
  },
  {
   "cell_type": "code",
   "execution_count": 2,
   "id": "4457403f-a253-44cc-bd30-4c1ce56aee9b",
   "metadata": {},
   "outputs": [],
   "source": [
    "from sets.models import Set, SetSimulatedPriceStats\n",
    "from sets.tasks import scrape_parse_save_yugioh_sets, main_scrape_cards_and_details\n",
    "from cards.tasks import scrape_parse_save_cards"
   ]
  },
  {
   "cell_type": "code",
   "execution_count": 3,
   "id": "10cb4ae5-f5c0-4928-9710-5245ca13cc84",
   "metadata": {},
   "outputs": [],
   "source": [
    "set_task = scrape_parse_save_yugioh_sets.delay()\n",
    "get_set_task = set_task.get()"
   ]
  },
  {
   "cell_type": "code",
   "execution_count": 4,
   "id": "1d162522-1c8b-440f-8fe5-99db4f6ebbe5",
   "metadata": {},
   "outputs": [],
   "source": [
    "test_cards_task = main_scrape_cards_and_details.delay()\n",
    "get_test_cards_task = test_cards_task.get()"
   ]
  },
  {
   "cell_type": "code",
   "execution_count": 5,
   "id": "457b33be-97f8-4d02-9730-7a50238de2cc",
   "metadata": {},
   "outputs": [],
   "source": [
    "from sets.tasks import (simulated_qcr_core_sets_booster_stats, \n",
    "                        simulated_rarity_ii_booster_stats, \n",
    "                        simulated_collector_with_qcr_booster_stats,\n",
    "                        simulated_collector_without_qcr_booster_stats,\n",
    "                        simulated_rarity_collection_booster_stats,\n",
    "                        update_graphs_for_sets, save_sets_cgv_rankings, \n",
    "                        save_sets_gainloss_rankings, update_set_gainloss)"
   ]
  },
  {
   "cell_type": "code",
   "execution_count": 6,
   "id": "706c70e9-2914-44d6-a2c2-b2110a0a8f0d",
   "metadata": {},
   "outputs": [],
   "source": [
    "rarity_collection_task = simulated_rarity_collection_booster_stats.delay()\n",
    "get_rarity_collection_task = rarity_collection_task.get()"
   ]
  },
  {
   "cell_type": "code",
   "execution_count": 7,
   "id": "8b5e40a7-f4eb-461e-a6eb-06759e3a58a5",
   "metadata": {},
   "outputs": [],
   "source": [
    "simulate_core_sets_task = simulated_qcr_core_sets_booster_stats.delay()\n",
    "core_sets_get_task = simulate_core_sets_task.get()"
   ]
  },
  {
   "cell_type": "code",
   "execution_count": 8,
   "id": "406ab6a5-84bb-4aa8-8fd8-faceaeec2c83",
   "metadata": {},
   "outputs": [],
   "source": [
    "qcr_cllctr_task = simulated_collector_without_qcr_booster_stats.delay()\n",
    "get_qct_cllctr_task = qcr_cllctr_task.get()"
   ]
  },
  {
   "cell_type": "code",
   "execution_count": 9,
   "id": "d1d31389-1261-4fcf-9cee-9f89722a45a4",
   "metadata": {},
   "outputs": [],
   "source": [
    "qcr_cllctr_qcr_task = simulated_collector_with_qcr_booster_stats.delay()\n",
    "get_qct_cllctr_task = qcr_cllctr_qcr_task.get()"
   ]
  },
  {
   "cell_type": "code",
   "execution_count": 10,
   "id": "dd6dd14c-7080-4706-b758-34fb7ef5dac5",
   "metadata": {},
   "outputs": [],
   "source": [
    "simulate_ra02_boosters_task = simulated_rarity_ii_booster_stats.delay()\n",
    "ra02_set_get_task = simulate_ra02_boosters_task.get()"
   ]
  },
  {
   "cell_type": "code",
   "execution_count": 11,
   "id": "4fe1cac3-001f-4f07-9f6a-cdf20a6f1ff9",
   "metadata": {},
   "outputs": [],
   "source": [
    "update_set_gainloss_task = update_set_gainloss.delay()\n",
    "get_update_set_gainloss_task = update_set_gainloss_task.get()"
   ]
  },
  {
   "cell_type": "code",
   "execution_count": 12,
   "id": "3e9a0bcb-fcea-45cf-abdf-254d5b50c7e4",
   "metadata": {},
   "outputs": [],
   "source": [
    "save_sets_gainloss_rankings_task = save_sets_gainloss_rankings.delay()\n",
    "get_save_sets_gainloss_rankings_task = save_sets_gainloss_rankings_task.get()"
   ]
  },
  {
   "cell_type": "code",
   "execution_count": 13,
   "id": "b2cb6345-f7ee-4da5-a6d0-f5aa24cce4f3",
   "metadata": {},
   "outputs": [],
   "source": [
    "rankings_task = save_sets_cgv_rankings.delay()\n",
    "get_rankings_task = rankings_task.get()"
   ]
  },
  {
   "cell_type": "code",
   "execution_count": 14,
   "id": "51b110a5-eca8-4db5-8c25-254b6167dc8d",
   "metadata": {},
   "outputs": [],
   "source": [
    "graphs_task = update_graphs_for_sets.delay()\n",
    "get_graphs_task = graphs_task.get()"
   ]
  }
 ],
 "metadata": {
  "kernelspec": {
   "display_name": "venv",
   "language": "python",
   "name": "venv"
  },
  "language_info": {
   "codemirror_mode": {
    "name": "ipython",
    "version": 3
   },
   "file_extension": ".py",
   "mimetype": "text/x-python",
   "name": "python",
   "nbconvert_exporter": "python",
   "pygments_lexer": "ipython3",
   "version": "3.12.2"
  }
 },
 "nbformat": 4,
 "nbformat_minor": 5
}
