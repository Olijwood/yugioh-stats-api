{
 "cells": [
  {
   "cell_type": "code",
   "execution_count": 1,
   "id": "5b629725-2289-4676-b386-0cf03d8236be",
   "metadata": {},
   "outputs": [],
   "source": [
    "import setup\n",
    "setup.init_django(project_name='yugiohstats')"
   ]
  },
  {
   "cell_type": "code",
   "execution_count": 2,
   "id": "f20de18c-f73f-49e1-a4dc-2d5356e09203",
   "metadata": {},
   "outputs": [],
   "source": [
    "from ct_cards.tasks import yugioh_exp_get_card_blueprints, update_expansion_cards_prices\n",
    "from ct_games.tasks import update_games\n",
    "from ct_expansions.tasks import ( \n",
    "update_expansions, get_latest_booster_prices, \n",
    "simulate_yugioh_core_qcr_stats, update_rankings, simulate_yugioh_collector_without_qcr_booster_stats,\n",
    "simulate_yugioh_rarity_ii_booster_stats, simulate_yugioh_rarity_i_booster_stats, \n",
    "simulate_yugioh_collector_with_qcr_booster_stats, simulate_yugioh_bol_with_qcr_booster_stats, \n",
    "simulate_yugioh_bol_with_starlight_booster_stats, simulate_yugioh_core_with_starlight_booster_stats\n",
    ")\n",
    "from ct_expansions.models import ExpRankings, Expansion\n",
    "from ct_cards.models import CardBlueprint\n",
    "from datetime import date"
   ]
  },
  {
   "cell_type": "code",
   "execution_count": 6,
   "id": "03f01ba3-36d4-4b35-b38e-6c8f86b61914",
   "metadata": {},
   "outputs": [],
   "source": [
    "update_games_task = update_games.delay()\n",
    "retrieve_update_games_task = update_games_task.get()"
   ]
  },
  {
   "cell_type": "code",
   "execution_count": 7,
   "id": "029422de-c278-49e1-abd4-91e6e304b0ed",
   "metadata": {},
   "outputs": [],
   "source": [
    "update_expansions_task = update_expansions.delay()\n",
    "retrieve_update_expansions_task = update_expansions_task.get()"
   ]
  },
  {
   "cell_type": "code",
   "execution_count": 8,
   "id": "5b32fb86-3a6c-42c1-ab6e-d05b996ab410",
   "metadata": {},
   "outputs": [],
   "source": [
    "get_latest_booster_prices_task = get_latest_booster_prices.delay()\n",
    "retrieve_get_latest_booster_prices_task = get_latest_booster_prices_task.get()"
   ]
  },
  {
   "cell_type": "code",
   "execution_count": 9,
   "id": "65e126d6-9f9d-47ef-bfbb-bedfe18a1a71",
   "metadata": {},
   "outputs": [],
   "source": [
    "yugioh_exp_get_card_blueprints_task = yugioh_exp_get_card_blueprints.delay()\n",
    "retrieve_yugioh_exp_get_card_blueprints_task = yugioh_exp_get_card_blueprints_task.get()"
   ]
  },
  {
   "cell_type": "code",
   "execution_count": 10,
   "id": "0419f872-3dd5-40d8-b196-bfcc6214c084",
   "metadata": {},
   "outputs": [],
   "source": [
    "update_expansion_cards_prices_task = update_expansion_cards_prices.delay()\n",
    "retrieve_update_expansion_cards_prices_task = update_expansion_cards_prices_task.get()"
   ]
  },
  {
   "cell_type": "markdown",
   "id": "288b78c3-1a9c-4a17-a994-b5c860f1a25d",
   "metadata": {},
   "source": [
    "Simulate Booster Stats"
   ]
  },
  {
   "cell_type": "code",
   "execution_count": 11,
   "id": "7856da5b-3c5d-453a-b725-cb0524700878",
   "metadata": {},
   "outputs": [],
   "source": [
    "simulate_yugioh_core_with_starlight_booster_stats_task = simulate_yugioh_core_with_starlight_booster_stats.delay()\n",
    "retrieve_simulate_yugioh_core_with_starlight_booster_stats_task = simulate_yugioh_core_with_starlight_booster_stats_task.get()"
   ]
  },
  {
   "cell_type": "code",
   "execution_count": 12,
   "id": "dbe96811-5ce8-4a82-b203-b68e0ec794ad",
   "metadata": {},
   "outputs": [],
   "source": [
    "simulate_yugioh_bol_with_qcr_booster_stats_task = simulate_yugioh_bol_with_qcr_booster_stats.delay()\n",
    "retrieve_simulate_yugioh_bol_with_qcr_booster_stats_task = simulate_yugioh_bol_with_qcr_booster_stats_task.get()"
   ]
  },
  {
   "cell_type": "code",
   "execution_count": 13,
   "id": "7935079a-ca3f-4f90-8cdc-5c6efbf6733c",
   "metadata": {},
   "outputs": [],
   "source": [
    "simulate_yugioh_bol_with_starlight_booster_stats_task = simulate_yugioh_bol_with_starlight_booster_stats.delay()\n",
    "retrieve_simulate_yugioh_bol_with_starlight_booster_stats_task = simulate_yugioh_bol_with_starlight_booster_stats_task.get()"
   ]
  },
  {
   "cell_type": "code",
   "execution_count": 14,
   "id": "4bbd971b-e2d8-4673-9f70-5bfba1a0df0f",
   "metadata": {},
   "outputs": [],
   "source": [
    "simulate_yugioh_collector_with_qcr_booster_stats_task = simulate_yugioh_collector_with_qcr_booster_stats.delay()\n",
    "retrieve_simulate_yugioh_collector_with_qcr_booster_stats_task = simulate_yugioh_collector_with_qcr_booster_stats_task.get()"
   ]
  },
  {
   "cell_type": "code",
   "execution_count": 15,
   "id": "695712dc-c4be-4a68-a75c-61b6cf0432d0",
   "metadata": {},
   "outputs": [],
   "source": [
    "simulate_yugioh_collector_without_qcr_booster_stats_task = simulate_yugioh_collector_without_qcr_booster_stats.delay()\n",
    "retrieve_simulate_yugioh_collector_without_qcr_booster_stats_task = simulate_yugioh_collector_without_qcr_booster_stats_task.get()"
   ]
  },
  {
   "cell_type": "code",
   "execution_count": 16,
   "id": "e7330057-593c-47c0-8279-71c62f399d55",
   "metadata": {},
   "outputs": [],
   "source": [
    "simulate_yugioh_rarity_i_booster_stats_task = simulate_yugioh_rarity_i_booster_stats.delay()\n",
    "retrieve_simulate_yugioh_rarity_i_booster_stats_task = simulate_yugioh_rarity_i_booster_stats_task.get()"
   ]
  },
  {
   "cell_type": "code",
   "execution_count": 17,
   "id": "207cb944-b322-48b8-9776-eddffdd4c4ac",
   "metadata": {},
   "outputs": [],
   "source": [
    "simulate_yugioh_rarity_ii_booster_stats_task = simulate_yugioh_rarity_ii_booster_stats.delay()\n",
    "retrieve_simulate_yugioh_rarity_ii_booster_stats_task = simulate_yugioh_rarity_ii_booster_stats_task.get()"
   ]
  },
  {
   "cell_type": "code",
   "execution_count": 18,
   "id": "ddfadaed-bfea-4fbb-b1ef-8b35d0f9185e",
   "metadata": {},
   "outputs": [],
   "source": [
    "simulate_yugioh_core_qcr_stats_task = simulate_yugioh_core_qcr_stats.delay()\n",
    "retrieve_simulate_yugioh_core_qcr_stats_task = simulate_yugioh_core_qcr_stats_task.get()"
   ]
  },
  {
   "cell_type": "code",
   "execution_count": 19,
   "id": "e9785261-754f-4a2e-bc0e-ec47e4a84eb8",
   "metadata": {},
   "outputs": [],
   "source": [
    "update_rankings_task = update_rankings.delay()\n",
    "retrieve_update_rankings_task = update_rankings_task.get()"
   ]
  },
  {
   "cell_type": "code",
   "execution_count": 20,
   "id": "623f09a1-2aec-47b5-8da7-f546659a8c25",
   "metadata": {},
   "outputs": [],
   "source": [
    "rankings_today = ExpRankings.objects.filter(ranking_date=date.today())\n",
    "gl_rankings = [[td.gl_ranking, td.gl_ranking_change, td.expansion.code, td.gl_today, td.gl_all_time] for td in rankings_today.order_by('gl_ranking')]\n",
    "cgv_rankings = [[td.cgv_ranking, td.cgv_ranking_change, td.expansion.code, td.cgv_today, td.cgv_all_time] for td in rankings_today.order_by('cgv_ranking')]"
   ]
  },
  {
   "cell_type": "code",
   "execution_count": 21,
   "id": "672369f7-d958-4ab3-bf74-7a2a35e73bc6",
   "metadata": {},
   "outputs": [
    {
     "data": {
      "text/plain": [
       "[[1, 0, 'ra02', 44.01, -17.29],\n",
       " [2, 0, 'ra01', 32.05, 17.44],\n",
       " [3, 0, 'blmr', 21.12, 62.71],\n",
       " [4, 0, 'vasm', 7.99, -1.84],\n",
       " [5, 0, 'blcr', 6.33, 9.14],\n",
       " [6, 0, 'dune', 5.06, 11.21],\n",
       " [7, 1, 'brol', -0.57, -112.61],\n",
       " [8, 1, 'tama', -2.68, 82.31],\n",
       " [9, -2, 'lede', -4.1, -54.65],\n",
       " [10, 0, 'geim', -4.33, -31.49],\n",
       " [11, 0, 'cyac', -9.07, 11.84],\n",
       " [12, 0, 'mzmi', -11.11, 8.71],\n",
       " [13, 0, 'wisu', -11.5, -3.85],\n",
       " [14, 0, 'phhy', -12.27, 23.56],\n",
       " [15, 1, 'bach', -13.84, 2.37],\n",
       " [16, 1, 'liov', -14.78, 18.43],\n",
       " [17, 1, 'angu', -15.3, 1.19],\n",
       " [18, 1, 'phra', -17.64, -1.01],\n",
       " [19, 2, 'dama', -18.09, -8.45],\n",
       " [20, 0, 'phni', -18.19, 234.38],\n",
       " [21, 1, 'amde', -18.59, 2.71],\n",
       " [22, 1, 'dabl', -18.71, 18.42],\n",
       " [23, 1, 'difo', -19.65, 7.67],\n",
       " [24, 1, 'grcr', -23.07, -5.72],\n",
       " [25, 1, 'maze', -24.26, -0.25],\n",
       " [26, 1, 'blvo', -26.8, -9.86],\n",
       " [27, -12, 'bode', -33.99, 162.27],\n",
       " [28, 0, 'pote', -34.95, 17.24],\n",
       " [29, 0, 'agov', -40.6, -5.65],\n",
       " [30, 0, 'toch', -105.05, 70.07],\n",
       " [31, 0, 'blar', -113.34, 2.78],\n",
       " [32, 0, 'rotd', -316.45, -1.94]]"
      ]
     },
     "execution_count": 21,
     "metadata": {},
     "output_type": "execute_result"
    }
   ],
   "source": [
    "gl_rankings"
   ]
  },
  {
   "cell_type": "code",
   "execution_count": 22,
   "id": "87473906-9eff-4103-aff5-63a521eed00c",
   "metadata": {},
   "outputs": [
    {
     "data": {
      "text/plain": [
       "[[1, 0, 'ra02', 93.48, -3.39],\n",
       " [2, 0, 'ra01', 82.01, 6.02],\n",
       " [3, 0, 'blmr', 69.81, 31.49],\n",
       " [4, 0, 'vasm', 52.16, -1.86],\n",
       " [5, 0, 'dune', 51.91, 0.91],\n",
       " [6, 0, 'blcr', 41.81, 4.16],\n",
       " [7, 1, 'geim', 36.13, 28.35],\n",
       " [8, -1, 'lede', 35.15, 22.18],\n",
       " [9, 0, 'brol', 32.12, -30.48],\n",
       " [10, 0, 'mzmi', 30.94, -2.18],\n",
       " [11, 0, 'bach', 30.25, -0.46],\n",
       " [12, 0, 'cyac', 29.45, -5.43],\n",
       " [13, 0, 'tama', 26.98, -7.51],\n",
       " [14, 0, 'phhy', 24.26, -6.15],\n",
       " [15, 0, 'wisu', 19.38, 3.58],\n",
       " [16, 0, 'agov', 19.09, 27.86],\n",
       " [17, 0, 'phni', 14.59, -50.73],\n",
       " [18, 0, 'amde', 11.77, -3.6],\n",
       " [19, 0, 'angu', 11.64, -8.63],\n",
       " [20, 0, 'dabl', 11.06, -16.08],\n",
       " [21, 2, 'difo', 8.46, 1.32],\n",
       " [22, 2, 'dama', 7.8, 13.87],\n",
       " [23, 2, 'phra', 7.23, -1.36],\n",
       " [24, 2, 'blvo', 7.08, 3.96],\n",
       " [25, -3, 'bode', 6.67, -22.08],\n",
       " [26, -5, 'toch', 6.65, -35.62],\n",
       " [27, 0, 'pote', 6.63, -5.01],\n",
       " [28, 0, 'liov', 5.61, -8.48],\n",
       " [29, 0, 'maze', 5.22, 11.54],\n",
       " [30, 0, 'blar', 4.37, 4.05],\n",
       " [31, 0, 'grcr', 3.07, 25.82],\n",
       " [32, 0, 'rotd', 0.0, 0.0]]"
      ]
     },
     "execution_count": 22,
     "metadata": {},
     "output_type": "execute_result"
    }
   ],
   "source": [
    "cgv_rankings"
   ]
  }
 ],
 "metadata": {
  "kernelspec": {
   "display_name": "Python 3 (ipykernel)",
   "language": "python",
   "name": "python3"
  },
  "language_info": {
   "codemirror_mode": {
    "name": "ipython",
    "version": 3
   },
   "file_extension": ".py",
   "mimetype": "text/x-python",
   "name": "python",
   "nbconvert_exporter": "python",
   "pygments_lexer": "ipython3",
   "version": "3.12.2"
  }
 },
 "nbformat": 4,
 "nbformat_minor": 5
}
